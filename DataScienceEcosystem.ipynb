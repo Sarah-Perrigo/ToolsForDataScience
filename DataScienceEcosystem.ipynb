{
 "cells": [
  {
   "cell_type": "markdown",
   "id": "f411e636-8656-42ff-a50e-282567cd23e1",
   "metadata": {},
   "source": [
    "# Data Science Tools and Ecosystem"
   ]
  },
  {
   "cell_type": "markdown",
   "id": "064eb4ea-e7a1-4ff8-8802-5eb44de0125b",
   "metadata": {},
   "source": [
    "In this notebook, Data Science Tools and Ecosystem are summarized."
   ]
  },
  {
   "attachments": {},
   "cell_type": "markdown",
   "id": "b3d86d79-bcca-4e17-bf47-4a17971007f2",
   "metadata": {},
   "source": [
    "**Objectives:**\n",
    "* Describe the components of a Data Scientist's toolkit and list various tool categories\n",
    "* Show how code asset management and data asset management help build models\n",
    "* Identify the criteria for determining the right language to learn for your needs\n",
    "* Explore how languages such as Python, R, SQL, Scala, Java, C++, and Julia are used in Data Science\n",
    "* Describe how to use the notebooks in JupyterLab"
   ]
  },
  {
   "cell_type": "markdown",
   "id": "44f6b3fb-b8de-4aa5-a216-002b7d2a5d96",
   "metadata": {},
   "source": [
    "Some of the popular languages that Data Scientists use are:\n",
    "1. Python\n",
    "2. R\n",
    "3. SQL"
   ]
  },
  {
   "cell_type": "markdown",
   "id": "c20bc313-27ab-45dd-9858-f460f461b7ef",
   "metadata": {},
   "source": [
    "Some of the commonly used libraries used by Data Scientists include:\n",
    "1. Pandas\n",
    "2. NumPy\n",
    "3. Matplotlib"
   ]
  },
  {
   "cell_type": "markdown",
   "id": "4025970d-fd27-4dca-84c3-cc1cb96889f0",
   "metadata": {},
   "source": [
    "| Data Science Tools |\n",
    "| ------------------ |\n",
    "| RStudio |\n",
    "| Jupyter |\n",
    "| VisualStudio Code |"
   ]
  },
  {
   "cell_type": "markdown",
   "id": "e6ba2e3b-5d77-49e5-9401-cbddf48e2783",
   "metadata": {},
   "source": [
    "### Below are a few examples of evaluating arithmetic expressions in Python"
   ]
  },
  {
   "cell_type": "code",
   "execution_count": 2,
   "id": "c209b070-c385-4bb3-bb6a-640e5de2cb61",
   "metadata": {},
   "outputs": [
    {
     "data": {
      "text/plain": [
       "17"
      ]
     },
     "execution_count": 2,
     "metadata": {},
     "output_type": "execute_result"
    }
   ],
   "source": [
    "# \"This is a simple arithmetic expression to multiply then add integers.\"\n",
    "\n",
    "(3*4)+5"
   ]
  },
  {
   "cell_type": "code",
   "execution_count": 3,
   "id": "cef0125b-112f-4e2d-aaae-8ffdf1cb6099",
   "metadata": {},
   "outputs": [
    {
     "data": {
      "text/plain": [
       "3.3333333333333335"
      ]
     },
     "execution_count": 3,
     "metadata": {},
     "output_type": "execute_result"
    }
   ],
   "source": [
    "# \"This will convert 200 minutes to hours by dividing by 60.\"\n",
    "\n",
    "200/60"
   ]
  },
  {
   "cell_type": "markdown",
   "id": "8aa5b66f-8a5c-4540-a2d1-75a8064b33a1",
   "metadata": {},
   "source": [
    "## Author\n",
    "Sarah Perrigo"
   ]
  }
 ],
 "metadata": {
  "kernelspec": {
   "display_name": "Python 3 (ipykernel)",
   "language": "python",
   "name": "python3"
  },
  "language_info": {
   "codemirror_mode": {
    "name": "ipython",
    "version": 3
   },
   "file_extension": ".py",
   "mimetype": "text/x-python",
   "name": "python",
   "nbconvert_exporter": "python",
   "pygments_lexer": "ipython3",
   "version": "3.11.7"
  }
 },
 "nbformat": 4,
 "nbformat_minor": 5
}
